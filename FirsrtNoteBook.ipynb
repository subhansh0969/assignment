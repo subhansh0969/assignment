{
 "cells": [
  {
   "cell_type": "code",
   "execution_count": null,
   "id": "19792da6-64bc-44d0-9456-21f3e1f13d13",
   "metadata": {},
   "outputs": [
    {
     "name": "stdout",
     "output_type": "stream",
     "text": [
      "subhansh Dwivedi\n"
     ]
    }
   ],
   "source": [
    "print(\"subhansh Dwivedi\")\n"
   ]
  },
  {
   "cell_type": "code",
   "execution_count": null,
   "id": "9899733a-a991-4ab9-b6d2-49b23e4388db",
   "metadata": {},
   "outputs": [
    {
     "name": "stdout",
     "output_type": "stream",
     "text": [
      "[10, 23, 45, 43]\n",
      "<class 'list'>\n"
     ]
    }
   ],
   "source": [
    "num=[10,23,45,43]\n",
    "print(num)\n",
    "print(type(num))"
   ]
  },
  {
   "cell_type": "code",
   "execution_count": null,
   "id": "11ef1e0f-cbbc-4f03-adfb-3cbc4d79ef93",
   "metadata": {
    "collapsed": true,
    "jupyter": {
     "outputs_hidden": true
    }
   },
   "outputs": [
    {
     "ename": "TypeError",
     "evalue": "array() got an unexpected keyword argument 'dtpye'",
     "output_type": "error",
     "traceback": [
      "\u001b[1;31m---------------------------------------------------------------------------\u001b[0m",
      "\u001b[1;31mTypeError\u001b[0m                                 Traceback (most recent call last)",
      "Cell \u001b[1;32mIn[3], line 2\u001b[0m\n\u001b[0;32m      1\u001b[0m \u001b[38;5;28;01mimport\u001b[39;00m \u001b[38;5;21;01mnumpy\u001b[39;00m \u001b[38;5;28;01mas\u001b[39;00m \u001b[38;5;21;01mnp\u001b[39;00m\n\u001b[1;32m----> 2\u001b[0m arr\u001b[38;5;241m=\u001b[39mnp\u001b[38;5;241m.\u001b[39marray([\u001b[38;5;241m1\u001b[39m,\u001b[38;5;241m2\u001b[39m,\u001b[38;5;241m3\u001b[39m,\u001b[38;5;241m4\u001b[39m],dtpye\u001b[38;5;241m=\u001b[39mnp\u001b[38;5;241m.\u001b[39mfloat32)\n\u001b[0;32m      3\u001b[0m \u001b[38;5;28mprint\u001b[39m(arr,arr\u001b[38;5;241m.\u001b[39mdtype)\n",
      "\u001b[1;31mTypeError\u001b[0m: array() got an unexpected keyword argument 'dtpye'"
     ]
    }
   ],
   "source": [
    "import numpy as np\n",
    "arr=np.array([1,2,3,4],dtpye=np.float32)\n",
    "print(arr,arr.dtyo"
   ]
  },
  {
   "cell_type": "code",
   "execution_count": null,
   "id": "5756996f-3a28-4868-8f3b-19af688b5a54",
   "metadata": {},
   "outputs": [],
   "source": [
    "import numpy as np\n"
   ]
  },
  {
   "cell_type": "code",
   "execution_count": 7,
   "id": "b5d6d50b-1116-41c1-91fa-051d9f52349e",
   "metadata": {},
   "outputs": [
    {
     "name": "stdout",
     "output_type": "stream",
     "text": [
      "[ 10  15   5 205]\n"
     ]
    }
   ],
   "source": [
    "# Input\n",
    "lst = [5, 10, 0, 200]\n",
    "# Expected Output:\n",
    "# [10, 15, 5, 20}\n",
    "import numpy as np\n",
    "arr = np.array(lst)\n",
    "print(arr +5 )"
   ]
  },
  {
   "cell_type": "code",
   "execution_count": 13,
   "id": "75e51525-039b-4593-849e-7945188a8c6d",
   "metadata": {},
   "outputs": [
    {
     "name": "stdout",
     "output_type": "stream",
     "text": [
      "<class 'numpy.str_'> <class 'numpy.str_'> <class 'numpy.str_'>\n"
     ]
    }
   ],
   "source": [
    "lst = [1, 2, 3, 'text', True, 3+2j]   \n",
    "import numpy as np\n",
    "arr = np.array(lst)\n",
    "print(type(arr[0]),type(arr[4]),type(arr[5]))"
   ]
  },
  {
   "cell_type": "code",
   "execution_count": 14,
   "id": "3bf486b2-6b3e-4b6f-8e54-b0fd0777c5bc",
   "metadata": {},
   "outputs": [
    {
     "name": "stdout",
     "output_type": "stream",
     "text": [
      "16\n"
     ]
    }
   ],
   "source": [
    " # Input\n",
    "lst = [56, 45, 12, 6] \n",
    "# Expected output:\n",
    "# 16 \n",
    "import numpy as np\n",
    "arr = np.array(lst)\n",
    "print(arr.nbytes)\n"
   ]
  },
  {
   "cell_type": "code",
   "execution_count": 34,
   "id": "95015f05-d601-46ef-964c-af718cfe2691",
   "metadata": {},
   "outputs": [
    {
     "name": "stdout",
     "output_type": "stream",
     "text": [
      "[[24 32 32 34 55]\n",
      " [43  4 32  0  0]]\n"
     ]
    }
   ],
   "source": [
    "import numpy as np\n",
    "# arr=np.array([19,33,45,39,64,23],dtype=int)\n",
    "# print(arr)\n",
    "# print(type(arr))\n",
    "# print(np.result_type(arr))\n",
    "# print(np.linspace(0, 160, 5, dtype = np.float64))\n",
    "# print(np.array([23,45,64,342,23,4,55,55]).reshape(2,4))\n",
    "print(np.matrix([[24,32,32,34,55],\n",
    "                 [43,4,32,0,0]]))\n"
   ]
  },
  {
   "cell_type": "code",
   "execution_count": 48,
   "id": "2eaa9543-44b2-4673-ae56-2f146cdf8f3f",
   "metadata": {},
   "outputs": [
    {
     "name": "stdout",
     "output_type": "stream",
     "text": [
      "[[1. 1. 1.]\n",
      " [1. 1. 1.]\n",
      " [1. 1. 1.]]\n"
     ]
    }
   ],
   "source": [
    "import numpy as np\n",
    "print(np.ones( (3,3), dtype = np.float64 ))"
   ]
  },
  {
   "cell_type": "code",
   "execution_count": null,
   "id": "bc5f0433-4e09-4b50-87d6-be8dccba5507",
   "metadata": {},
   "outputs": [],
   "source": []
  }
 ],
 "metadata": {
  "kernelspec": {
   "display_name": "Python 3 (ipykernel)",
   "language": "python",
   "name": "python3"
  },
  "language_info": {
   "codemirror_mode": {
    "name": "ipython",
    "version": 3
   },
   "file_extension": ".py",
   "mimetype": "text/x-python",
   "name": "python",
   "nbconvert_exporter": "python",
   "pygments_lexer": "ipython3",
   "version": "3.12.7"
  }
 },
 "nbformat": 4,
 "nbformat_minor": 5
}
