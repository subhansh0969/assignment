{
 "cells": [
  {
   "cell_type": "code",
   "execution_count": 3,
   "id": "385a20f2-4e4f-4933-811a-51bfeffccca7",
   "metadata": {},
   "outputs": [],
   "source": [
    "# My Data Science Notebook\n"
   ]
  },
  {
   "cell_type": "code",
   "execution_count": null,
   "id": "cf428a2c-dd72-4229-8127-fc567ffdcea2",
   "metadata": {},
   "outputs": [],
   "source": [
    "This notebook is created to explore basic concepts in data science including tools, libraries, languages, and simple Python arithmetic operations.\n"
   ]
  },
  {
   "cell_type": "code",
   "execution_count": null,
   "id": "f40187f1-69fd-4253-b988-75dad8f9021a",
   "metadata": {},
   "outputs": [],
   "source": [
    "The following are some of the most popular languages used in data science:\n",
    "\n",
    "1. Python  \n",
    "2. R  \n",
    "3. SQL  \n",
    "4. Julia  \n",
    "5. Scala\n"
   ]
  },
  {
   "cell_type": "code",
   "execution_count": null,
   "id": "54e74ce5-4124-4af1-9ce2-1a04aabb52b4",
   "metadata": {},
   "outputs": [],
   "source": [
    "Here are a few important libraries used in data science:\n",
    "\n",
    "1. NumPy  \n",
    "2. Pandas  \n",
    "3. Matplotlib  \n",
    "4. Scikit-learn  \n",
    "5. TensorFlow\n"
   ]
  },
  {
   "cell_type": "code",
   "execution_count": null,
   "id": "f3420fee-fe81-4928-8871-64871df3bdc5",
   "metadata": {},
   "outputs": [],
   "source": [
    "Below is a table listing some data science tools and their descriptions:\n",
    "\n",
    "| Tool Name   | Description                         |\n",
    "|-------------|-------------------------------------|\n",
    "| Jupyter     | An open-source web-based notebook   |\n",
    "| RStudio     | IDE for R programming               |\n",
    "| VS Code     | Lightweight and powerful code editor|\n"
   ]
  },
  {
   "cell_type": "code",
   "execution_count": null,
   "id": "2e384fd3-c86c-421a-bc25-f1a15c34beca",
   "metadata": {},
   "outputs": [],
   "source": [
    "Below are some examples of arithmetic expressions using Python.\n"
   ]
  },
  {
   "cell_type": "code",
   "execution_count": 4,
   "id": "da4f338e-af80-4fd1-aa39-8a577106b836",
   "metadata": {},
   "outputs": [
    {
     "data": {
      "text/plain": [
       "17"
      ]
     },
     "execution_count": 4,
     "metadata": {},
     "output_type": "execute_result"
    }
   ],
   "source": [
    "# This will multiply 3 and 4, then add 5\n",
    "(3 * 4) + 5\n"
   ]
  },
  {
   "cell_type": "code",
   "execution_count": 5,
   "id": "08e9b22f-dc84-49cd-bfad-c8c61ab7320a",
   "metadata": {},
   "outputs": [
    {
     "data": {
      "text/plain": [
       "2.5"
      ]
     },
     "execution_count": 5,
     "metadata": {},
     "output_type": "execute_result"
    }
   ],
   "source": [
    "# Convert 150 minutes into hours\n",
    "minutes = 150\n",
    "hours = minutes / 60\n",
    "hours\n"
   ]
  },
  {
   "cell_type": "code",
   "execution_count": null,
   "id": "e29294a5-d9dc-43ff-8924-c16bac360347",
   "metadata": {},
   "outputs": [],
   "source": [
    "### Objectives\n",
    "\n",
    "- Learn how to use Markdown cells in Jupyter Notebooks  \n",
    "- Perform basic arithmetic operations using Python  \n",
    "- Explore data science languages, libraries, and tools  \n",
    "- Share and document notebooks using GitHub\n"
   ]
  },
  {
   "cell_type": "code",
   "execution_count": null,
   "id": "dec44228-1de1-4c12-a619-199447b9212c",
   "metadata": {},
   "outputs": [],
   "source": [
    "**Author:** Dwivedi Subhansh RadheyShyam\n"
   ]
  },
  {
   "cell_type": "code",
   "execution_count": null,
   "id": "520516ec-a0a5-4120-ab30-74e711f7c7f8",
   "metadata": {},
   "outputs": [],
   "source": []
  }
 ],
 "metadata": {
  "kernelspec": {
   "display_name": "Python 3 (ipykernel)",
   "language": "python",
   "name": "python3"
  },
  "language_info": {
   "codemirror_mode": {
    "name": "ipython",
    "version": 3
   },
   "file_extension": ".py",
   "mimetype": "text/x-python",
   "name": "python",
   "nbconvert_exporter": "python",
   "pygments_lexer": "ipython3",
   "version": "3.12.7"
  }
 },
 "nbformat": 4,
 "nbformat_minor": 5
}
